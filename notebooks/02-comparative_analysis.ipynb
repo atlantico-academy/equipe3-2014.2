{
 "cells": [
  {
   "cell_type": "markdown",
   "id": "9adbf3fb-408e-40ff-81d6-6edebe0e4aec",
   "metadata": {},
   "source": [
    "# **Análise comparativa de modelos**"
   ]
  },
  {
   "cell_type": "code",
   "execution_count": 1,
   "id": "865f1657-35a0-49af-9ac9-b78e073db949",
   "metadata": {
    "tags": []
   },
   "outputs": [],
   "source": [
    "from IPython.display import display, Markdown\n",
    "import joblib\n",
    "import numpy as np\n",
    "import pandas as pd\n",
    "\n",
    "from sklearn.pipeline import Pipeline\n",
    "from sklearn.impute import SimpleImputer\n",
    "from sklearn.preprocessing import StandardScaler, MinMaxScaler, OneHotEncoder, OrdinalEncoder, LabelEncoder\n",
    "from sklearn.compose import ColumnTransformer\n",
    "from sklearn.linear_model import LinearRegression\n",
    "\n",
    "from sklearn.neighbors import KNeighborsClassifier\n",
    "from sklearn.model_selection import ShuffleSplit, GridSearchCV, KFold, cross_validate\n",
    "from sklearn.svm import SVC\n",
    "from sklearn.tree import DecisionTreeClassifier\n",
    "from sklearn.ensemble import RandomForestClassifier\n",
    "\n",
    "from sklearn.experimental import enable_iterative_imputer\n",
    "from sklearn.impute import IterativeImputer\n",
    "from sklearn.linear_model import LinearRegression\n",
    "from sklearn.svm import SVR\n",
    "from sklearn.neighbors import KNeighborsRegressor\n",
    "from sklearn.linear_model import SGDRegressor\n",
    "\n",
    "from sklearn.metrics import make_scorer, mean_squared_error, mean_absolute_error, r2_score\n",
    "from sklearn.model_selection import ShuffleSplit, GridSearchCV, KFold, cross_validate\n",
    "\n",
    "import warnings"
   ]
  },
  {
   "cell_type": "markdown",
   "id": "77fc28d7-5a6c-4165-b970-170a282d5d27",
   "metadata": {},
   "source": [
    "## **1. Obtenção de dados**"
   ]
  },
  {
   "cell_type": "markdown",
   "id": "0a4f55b4-be15-4627-8b4b-aa7fa90b437a",
   "metadata": {},
   "source": [
    "Nessa etapa obtemos novamente os arquivos brutos de dados e o dicionário antes de iniciar o pré-processamento."
   ]
  },
  {
   "cell_type": "code",
   "execution_count": 2,
   "id": "8e3c6bd2-6584-4d35-a03e-508127493589",
   "metadata": {
    "tags": []
   },
   "outputs": [
    {
     "data": {
      "text/html": [
       "<div>\n",
       "<style scoped>\n",
       "    .dataframe tbody tr th:only-of-type {\n",
       "        vertical-align: middle;\n",
       "    }\n",
       "\n",
       "    .dataframe tbody tr th {\n",
       "        vertical-align: top;\n",
       "    }\n",
       "\n",
       "    .dataframe thead th {\n",
       "        text-align: right;\n",
       "    }\n",
       "</style>\n",
       "<table border=\"1\" class=\"dataframe\">\n",
       "  <thead>\n",
       "    <tr style=\"text-align: right;\">\n",
       "      <th></th>\n",
       "      <th>variavel</th>\n",
       "      <th>descricao</th>\n",
       "      <th>tipo</th>\n",
       "      <th>subtipo</th>\n",
       "    </tr>\n",
       "  </thead>\n",
       "  <tbody>\n",
       "    <tr>\n",
       "      <th>0</th>\n",
       "      <td>winery</td>\n",
       "      <td>Nome da vinícula</td>\n",
       "      <td>Qualitativa</td>\n",
       "      <td>Nominal</td>\n",
       "    </tr>\n",
       "    <tr>\n",
       "      <th>1</th>\n",
       "      <td>wine</td>\n",
       "      <td>Nome do vinho</td>\n",
       "      <td>Qualitativa</td>\n",
       "      <td>Nominal</td>\n",
       "    </tr>\n",
       "    <tr>\n",
       "      <th>2</th>\n",
       "      <td>year</td>\n",
       "      <td>Ano da safra do vinho</td>\n",
       "      <td>Quantitativa</td>\n",
       "      <td>Contínua</td>\n",
       "    </tr>\n",
       "    <tr>\n",
       "      <th>3</th>\n",
       "      <td>rating</td>\n",
       "      <td>Avaliação do vinho (1-5)</td>\n",
       "      <td>Quantitativa</td>\n",
       "      <td>Discreta</td>\n",
       "    </tr>\n",
       "    <tr>\n",
       "      <th>4</th>\n",
       "      <td>num_reviews</td>\n",
       "      <td>Número de avaliações do vinho</td>\n",
       "      <td>Quantitativa</td>\n",
       "      <td>Discreta</td>\n",
       "    </tr>\n",
       "    <tr>\n",
       "      <th>5</th>\n",
       "      <td>country</td>\n",
       "      <td>País de origem do vinho</td>\n",
       "      <td>Qualitativa</td>\n",
       "      <td>Nominal</td>\n",
       "    </tr>\n",
       "    <tr>\n",
       "      <th>6</th>\n",
       "      <td>region</td>\n",
       "      <td>Região de origem do vinho</td>\n",
       "      <td>Qualitativa</td>\n",
       "      <td>Nominal</td>\n",
       "    </tr>\n",
       "    <tr>\n",
       "      <th>7</th>\n",
       "      <td>price</td>\n",
       "      <td>Preço do vinho em euros</td>\n",
       "      <td>Quantitativa</td>\n",
       "      <td>Contínua</td>\n",
       "    </tr>\n",
       "    <tr>\n",
       "      <th>8</th>\n",
       "      <td>type</td>\n",
       "      <td>Tipo do vinho</td>\n",
       "      <td>Qualitativa</td>\n",
       "      <td>Nominal</td>\n",
       "    </tr>\n",
       "    <tr>\n",
       "      <th>9</th>\n",
       "      <td>body</td>\n",
       "      <td>Classificação do corpo do vinho (1-5)</td>\n",
       "      <td>Quantitativa</td>\n",
       "      <td>Discreta</td>\n",
       "    </tr>\n",
       "    <tr>\n",
       "      <th>10</th>\n",
       "      <td>acidity</td>\n",
       "      <td>Classificação da acidez do vinho (1-5)</td>\n",
       "      <td>Quantitativa</td>\n",
       "      <td>Discreta</td>\n",
       "    </tr>\n",
       "  </tbody>\n",
       "</table>\n",
       "</div>"
      ],
      "text/plain": [
       "       variavel                               descricao          tipo  \\\n",
       "0        winery                        Nome da vinícula   Qualitativa   \n",
       "1          wine                           Nome do vinho   Qualitativa   \n",
       "2          year                   Ano da safra do vinho  Quantitativa   \n",
       "3        rating                Avaliação do vinho (1-5)  Quantitativa   \n",
       "4   num_reviews           Número de avaliações do vinho  Quantitativa   \n",
       "5       country                 País de origem do vinho   Qualitativa   \n",
       "6        region               Região de origem do vinho   Qualitativa   \n",
       "7         price                 Preço do vinho em euros  Quantitativa   \n",
       "8          type                           Tipo do vinho   Qualitativa   \n",
       "9          body   Classificação do corpo do vinho (1-5)  Quantitativa   \n",
       "10      acidity  Classificação da acidez do vinho (1-5)  Quantitativa   \n",
       "\n",
       "     subtipo  \n",
       "0    Nominal  \n",
       "1    Nominal  \n",
       "2   Contínua  \n",
       "3   Discreta  \n",
       "4   Discreta  \n",
       "5    Nominal  \n",
       "6    Nominal  \n",
       "7   Contínua  \n",
       "8    Nominal  \n",
       "9   Discreta  \n",
       "10  Discreta  "
      ]
     },
     "execution_count": 2,
     "metadata": {},
     "output_type": "execute_result"
    }
   ],
   "source": [
    "df = pd.read_csv(\"../data/raw/wines_SPA.csv\")\n",
    "df_dict = pd.read_csv(\"../data/external/dictionary.csv\")\n",
    "df_dict"
   ]
  },
  {
   "cell_type": "markdown",
   "id": "3d68a3a5-25cc-4e2d-b5f0-bfa422cb7978",
   "metadata": {},
   "source": [
    "## **2. Preparação de Dados**"
   ]
  },
  {
   "cell_type": "markdown",
   "id": "a3cb2ef6-0878-43a1-971c-6041b65eb183",
   "metadata": {},
   "source": [
    "Aqui realizamos a normalização, codificação e o tratamento de dados discrepantes e/ou faltantes dentro do conjunto de dados."
   ]
  },
  {
   "cell_type": "code",
   "execution_count": 3,
   "id": "b60ebe98-0ccb-4136-8c9b-52b62110fcf6",
   "metadata": {
    "tags": []
   },
   "outputs": [],
   "source": [
    "target_column = 'price'\n",
    "\n",
    "nominal_columns = (\n",
    "    df_dict\n",
    "    .query(\"subtipo == 'Nominal'\")\n",
    "    .variavel\n",
    "    .to_list()\n",
    ")\n",
    "\n",
    "continuous_columns = (\n",
    "    df_dict\n",
    "    .query(\"subtipo == 'Contínua' and variavel != @target_column\")\n",
    "    .variavel\n",
    "    .to_list()\n",
    ")\n",
    "\n",
    "discreet_columns = (\n",
    "     df_dict\n",
    "    .query(\"subtipo == 'Discreta'\")\n",
    "    .variavel\n",
    "    .to_list()\n",
    ")\n",
    "\n",
    "df[df.eq(\"N.V.\")] = np.nan\n",
    "x = df.drop(columns=[target_column], axis=1)\n",
    "y = df[target_column]"
   ]
  },
  {
   "cell_type": "code",
   "execution_count": 4,
   "id": "78970b2e-9842-4d39-89ae-aa0f280b06c3",
   "metadata": {
    "tags": []
   },
   "outputs": [],
   "source": [
    "# tratamento de dados discrepantes\n",
    "nominal_preprocessor = Pipeline([\n",
    "    ('missing', SimpleImputer(strategy='most_frequent')), # tratamento de dados faltantes\n",
    "    ('encoding', OneHotEncoder(sparse_output=False, drop='first', handle_unknown='infrequent_if_exist')), # codificação de variáveis\n",
    "    ('normalization', StandardScaler()) # normalização de dados\n",
    "])\n",
    "\n",
    "continuous_preprocessor = Pipeline([\n",
    "    ('missing', IterativeImputer(estimator=LinearRegression())), # tratamento de dados faltantes\n",
    "    ('normalization', StandardScaler()) # normalização de dados\n",
    "])\n",
    "\n",
    "discreet_preprocessor = Pipeline([\n",
    "    ('missing', IterativeImputer(estimator=LinearRegression())), # tratamento de dados faltantes\n",
    "    ('normalization', StandardScaler()) # normalização de dados\n",
    "])\n",
    "\n",
    "preprocessor = ColumnTransformer([\n",
    "    ('nominal', nominal_preprocessor, nominal_columns),\n",
    "    ('continuous', continuous_preprocessor, continuous_columns),\n",
    "    ('discreet', discreet_preprocessor, discreet_columns)\n",
    "])"
   ]
  },
  {
   "cell_type": "code",
   "execution_count": 5,
   "id": "053a6324-50e4-4348-aa9b-68e6e1d1c76d",
   "metadata": {
    "tags": []
   },
   "outputs": [],
   "source": [
    "#Aplicando o pré-processamento no conjunto de dados\n",
    "X_transformed = preprocessor.fit_transform(df)\n",
    "df_transformed = pd.DataFrame(X_transformed)"
   ]
  },
  {
   "cell_type": "markdown",
   "id": "ae7a1850-d544-49db-80ad-1de3f6c6d253",
   "metadata": {},
   "source": [
    "## **3. Seleção de Modelos**"
   ]
  },
  {
   "cell_type": "markdown",
   "id": "200d0e0f-f1b2-4a51-bbbf-bb43e5f68983",
   "metadata": {},
   "source": [
    "Iremos análisar quatro modelos, que serão testados utilizando o método de validação cruzada k-fold. São eles:\n",
    "\n",
    "* **Logistic Regression (LR)**\n",
    "* **Support Vector Regression (SVR)**\n",
    "* **K-Nearest-Neighbors (KNN)**\n",
    "* **SGDRegressor**\n",
    "\n",
    "Além disso, cada um desses algoritmos será testado com diferentes hiperparâmetros, a fim de encontrar o melhor modelo e a configuração ideal para ele.\n",
    "\n",
    "As métricas a serem utilizadas na análise são as seguintes:\n",
    "\n",
    "* **Erro quadrático médio (mean squared error, MSE):** Uma métrica de risco correspondente ao valor esperado do erro ou perda quadrática.\n",
    "* **Erro médio absoluto (mean absolute error, MAE):** Calcula o erro absoluto médio.\n",
    "* **Coeficiente de determinação (R2 score):** Representa a proporção da variância (de y) que foi explicada pelas variáveis independentes do modelo.\n",
    "* **Erro percentual absoluto médio (mean absolute percentage error, MAPE):** Mede a precisão de um modelo de regressão ao calcular a média dos erros absolutos como uma porcentagem dos valores reais."
   ]
  },
  {
   "cell_type": "markdown",
   "id": "6cbe0e75-925a-4b77-92c6-655dad51e315",
   "metadata": {},
   "source": [
    "### **3.1. Configuração do experimento**"
   ]
  },
  {
   "cell_type": "code",
   "execution_count": 6,
   "id": "6101db11-2675-4ba4-b754-3de7825ccad9",
   "metadata": {
    "tags": []
   },
   "outputs": [],
   "source": [
    "n_splits_comparative_analysis = 10\n",
    "n_folds_grid_search = 5\n",
    "test_size = 0.2\n",
    "random_state = 42\n",
    "scoring = 'neg_mean_absolute_error'\n",
    "metrics = ['neg_mean_squared_error', 'neg_mean_absolute_error', 'r2', 'neg_mean_absolute_percentage_error']"
   ]
  },
  {
   "cell_type": "markdown",
   "id": "51b424c6-607d-4385-b06f-8875da9a4d6d",
   "metadata": {},
   "source": [
    "### **3.2. Configuração dos modelos**"
   ]
  },
  {
   "cell_type": "code",
   "execution_count": 7,
   "id": "05ad1d59-e7b1-401b-b487-a328e7fd38be",
   "metadata": {
    "tags": []
   },
   "outputs": [],
   "source": [
    "models = [\n",
    "    (\n",
    "        'Linear Regression',\n",
    "        LinearRegression(),\n",
    "        {} \n",
    "    ),\n",
    "    (\n",
    "        'Support Vector Regression',\n",
    "         SVR(max_iter=100),\n",
    "         {\"kernel\": [\"linear\", \"rbf\"], 'C':[1, 10, 100, 1000],'gamma': [0.0001, 0.001, 0.01, 0.1, 1]},\n",
    "    ),\n",
    "    (\n",
    "         'K-Nearest-Neighbors',\n",
    "         KNeighborsRegressor(),\n",
    "      {'n_neighbors': [3, 5, 7, 10, 15], 'weights': ['uniform', 'distance'],'p': [1, 2]}\n",
    "    ),\n",
    "    (\n",
    "        'SGDRegressor',\n",
    "         SGDRegressor(max_iter=100, early_stopping=True),\n",
    "         {'penalty': [None, 'l2'], 'alpha': [0.0001, 0.01, 0.1], 'l1_ratio': [0.1, 0.9]}\n",
    "     )\n",
    "]"
   ]
  },
  {
   "cell_type": "markdown",
   "id": "3464a3e1-000e-442a-a6a6-a3f5d7f368e4",
   "metadata": {},
   "source": [
    "### **3.3. Análise Comparativa**"
   ]
  },
  {
   "cell_type": "code",
   "execution_count": 8,
   "id": "192fdbf0-89f4-46fc-8c79-8138dc0c6b36",
   "metadata": {
    "tags": []
   },
   "outputs": [],
   "source": [
    "warnings.filterwarnings(\"ignore\")  # Ignora os avisos sobre as categorias desconhecidas"
   ]
  },
  {
   "cell_type": "code",
   "execution_count": 9,
   "id": "20126a7b-3c5e-41e0-ac4f-b9d482ff8533",
   "metadata": {
    "tags": []
   },
   "outputs": [
    {
     "name": "stdout",
     "output_type": "stream",
     "text": [
      "Running Linear Regression...\n"
     ]
    },
    {
     "data": {
      "text/html": [
       "<div>\n",
       "<style scoped>\n",
       "    .dataframe tbody tr th:only-of-type {\n",
       "        vertical-align: middle;\n",
       "    }\n",
       "\n",
       "    .dataframe tbody tr th {\n",
       "        vertical-align: top;\n",
       "    }\n",
       "\n",
       "    .dataframe thead th {\n",
       "        text-align: right;\n",
       "    }\n",
       "</style>\n",
       "<table border=\"1\" class=\"dataframe\">\n",
       "  <thead>\n",
       "    <tr style=\"text-align: right;\">\n",
       "      <th></th>\n",
       "      <th>fit_time</th>\n",
       "      <th>score_time</th>\n",
       "      <th>test_neg_mean_squared_error</th>\n",
       "      <th>test_neg_mean_absolute_error</th>\n",
       "      <th>test_r2</th>\n",
       "      <th>test_neg_mean_absolute_percentage_error</th>\n",
       "    </tr>\n",
       "  </thead>\n",
       "  <tbody>\n",
       "    <tr>\n",
       "      <th>mean</th>\n",
       "      <td>17.376328</td>\n",
       "      <td>0.090048</td>\n",
       "      <td>-1.502489e+31</td>\n",
       "      <td>-5.670507e+14</td>\n",
       "      <td>-7.084600e+26</td>\n",
       "      <td>-1.754449e+13</td>\n",
       "    </tr>\n",
       "    <tr>\n",
       "      <th>std</th>\n",
       "      <td>3.321295</td>\n",
       "      <td>0.019448</td>\n",
       "      <td>1.003240e+31</td>\n",
       "      <td>1.023125e+14</td>\n",
       "      <td>7.206920e+26</td>\n",
       "      <td>3.436411e+12</td>\n",
       "    </tr>\n",
       "  </tbody>\n",
       "</table>\n",
       "</div>"
      ],
      "text/plain": [
       "       fit_time  score_time  test_neg_mean_squared_error  \\\n",
       "mean  17.376328    0.090048                -1.502489e+31   \n",
       "std    3.321295    0.019448                 1.003240e+31   \n",
       "\n",
       "      test_neg_mean_absolute_error       test_r2  \\\n",
       "mean                 -5.670507e+14 -7.084600e+26   \n",
       "std                   1.023125e+14  7.206920e+26   \n",
       "\n",
       "      test_neg_mean_absolute_percentage_error  \n",
       "mean                            -1.754449e+13  \n",
       "std                              3.436411e+12  "
      ]
     },
     "metadata": {},
     "output_type": "display_data"
    },
    {
     "name": "stdout",
     "output_type": "stream",
     "text": [
      "Running Support Vector Regression...\n"
     ]
    },
    {
     "data": {
      "text/html": [
       "<div>\n",
       "<style scoped>\n",
       "    .dataframe tbody tr th:only-of-type {\n",
       "        vertical-align: middle;\n",
       "    }\n",
       "\n",
       "    .dataframe tbody tr th {\n",
       "        vertical-align: top;\n",
       "    }\n",
       "\n",
       "    .dataframe thead th {\n",
       "        text-align: right;\n",
       "    }\n",
       "</style>\n",
       "<table border=\"1\" class=\"dataframe\">\n",
       "  <thead>\n",
       "    <tr style=\"text-align: right;\">\n",
       "      <th></th>\n",
       "      <th>fit_time</th>\n",
       "      <th>score_time</th>\n",
       "      <th>test_neg_mean_squared_error</th>\n",
       "      <th>test_neg_mean_absolute_error</th>\n",
       "      <th>test_r2</th>\n",
       "      <th>test_neg_mean_absolute_percentage_error</th>\n",
       "    </tr>\n",
       "  </thead>\n",
       "  <tbody>\n",
       "    <tr>\n",
       "      <th>mean</th>\n",
       "      <td>140.192339</td>\n",
       "      <td>0.198990</td>\n",
       "      <td>-25273.592425</td>\n",
       "      <td>-106.583434</td>\n",
       "      <td>0.029959</td>\n",
       "      <td>-3.648213</td>\n",
       "    </tr>\n",
       "    <tr>\n",
       "      <th>std</th>\n",
       "      <td>6.639944</td>\n",
       "      <td>0.062854</td>\n",
       "      <td>11989.246877</td>\n",
       "      <td>50.019150</td>\n",
       "      <td>0.348563</td>\n",
       "      <td>2.062539</td>\n",
       "    </tr>\n",
       "  </tbody>\n",
       "</table>\n",
       "</div>"
      ],
      "text/plain": [
       "        fit_time  score_time  test_neg_mean_squared_error  \\\n",
       "mean  140.192339    0.198990                -25273.592425   \n",
       "std     6.639944    0.062854                 11989.246877   \n",
       "\n",
       "      test_neg_mean_absolute_error   test_r2  \\\n",
       "mean                   -106.583434  0.029959   \n",
       "std                      50.019150  0.348563   \n",
       "\n",
       "      test_neg_mean_absolute_percentage_error  \n",
       "mean                                -3.648213  \n",
       "std                                  2.062539  "
      ]
     },
     "metadata": {},
     "output_type": "display_data"
    },
    {
     "name": "stdout",
     "output_type": "stream",
     "text": [
      "Running K-Nearest-Neighbors...\n"
     ]
    },
    {
     "data": {
      "text/html": [
       "<div>\n",
       "<style scoped>\n",
       "    .dataframe tbody tr th:only-of-type {\n",
       "        vertical-align: middle;\n",
       "    }\n",
       "\n",
       "    .dataframe tbody tr th {\n",
       "        vertical-align: top;\n",
       "    }\n",
       "\n",
       "    .dataframe thead th {\n",
       "        text-align: right;\n",
       "    }\n",
       "</style>\n",
       "<table border=\"1\" class=\"dataframe\">\n",
       "  <thead>\n",
       "    <tr style=\"text-align: right;\">\n",
       "      <th></th>\n",
       "      <th>fit_time</th>\n",
       "      <th>score_time</th>\n",
       "      <th>test_neg_mean_squared_error</th>\n",
       "      <th>test_neg_mean_absolute_error</th>\n",
       "      <th>test_r2</th>\n",
       "      <th>test_neg_mean_absolute_percentage_error</th>\n",
       "    </tr>\n",
       "  </thead>\n",
       "  <tbody>\n",
       "    <tr>\n",
       "      <th>mean</th>\n",
       "      <td>192.564879</td>\n",
       "      <td>0.373604</td>\n",
       "      <td>-6661.260276</td>\n",
       "      <td>-13.174500</td>\n",
       "      <td>0.757483</td>\n",
       "      <td>-0.108819</td>\n",
       "    </tr>\n",
       "    <tr>\n",
       "      <th>std</th>\n",
       "      <td>28.099024</td>\n",
       "      <td>0.106897</td>\n",
       "      <td>3282.981468</td>\n",
       "      <td>2.160287</td>\n",
       "      <td>0.090482</td>\n",
       "      <td>0.011252</td>\n",
       "    </tr>\n",
       "  </tbody>\n",
       "</table>\n",
       "</div>"
      ],
      "text/plain": [
       "        fit_time  score_time  test_neg_mean_squared_error  \\\n",
       "mean  192.564879    0.373604                 -6661.260276   \n",
       "std    28.099024    0.106897                  3282.981468   \n",
       "\n",
       "      test_neg_mean_absolute_error   test_r2  \\\n",
       "mean                    -13.174500  0.757483   \n",
       "std                       2.160287  0.090482   \n",
       "\n",
       "      test_neg_mean_absolute_percentage_error  \n",
       "mean                                -0.108819  \n",
       "std                                  0.011252  "
      ]
     },
     "metadata": {},
     "output_type": "display_data"
    },
    {
     "name": "stdout",
     "output_type": "stream",
     "text": [
      "Running SGDRegressor...\n"
     ]
    },
    {
     "data": {
      "text/html": [
       "<div>\n",
       "<style scoped>\n",
       "    .dataframe tbody tr th:only-of-type {\n",
       "        vertical-align: middle;\n",
       "    }\n",
       "\n",
       "    .dataframe tbody tr th {\n",
       "        vertical-align: top;\n",
       "    }\n",
       "\n",
       "    .dataframe thead th {\n",
       "        text-align: right;\n",
       "    }\n",
       "</style>\n",
       "<table border=\"1\" class=\"dataframe\">\n",
       "  <thead>\n",
       "    <tr style=\"text-align: right;\">\n",
       "      <th></th>\n",
       "      <th>fit_time</th>\n",
       "      <th>score_time</th>\n",
       "      <th>test_neg_mean_squared_error</th>\n",
       "      <th>test_neg_mean_absolute_error</th>\n",
       "      <th>test_r2</th>\n",
       "      <th>test_neg_mean_absolute_percentage_error</th>\n",
       "    </tr>\n",
       "  </thead>\n",
       "  <tbody>\n",
       "    <tr>\n",
       "      <th>mean</th>\n",
       "      <td>18.380991</td>\n",
       "      <td>0.099055</td>\n",
       "      <td>-8.583387e+21</td>\n",
       "      <td>-1.036651e+10</td>\n",
       "      <td>-3.391654e+17</td>\n",
       "      <td>-3.214892e+08</td>\n",
       "    </tr>\n",
       "    <tr>\n",
       "      <th>std</th>\n",
       "      <td>0.162376</td>\n",
       "      <td>0.001345</td>\n",
       "      <td>8.343420e+21</td>\n",
       "      <td>5.809302e+09</td>\n",
       "      <td>3.439056e+17</td>\n",
       "      <td>1.912649e+08</td>\n",
       "    </tr>\n",
       "  </tbody>\n",
       "</table>\n",
       "</div>"
      ],
      "text/plain": [
       "       fit_time  score_time  test_neg_mean_squared_error  \\\n",
       "mean  18.380991    0.099055                -8.583387e+21   \n",
       "std    0.162376    0.001345                 8.343420e+21   \n",
       "\n",
       "      test_neg_mean_absolute_error       test_r2  \\\n",
       "mean                 -1.036651e+10 -3.391654e+17   \n",
       "std                   5.809302e+09  3.439056e+17   \n",
       "\n",
       "      test_neg_mean_absolute_percentage_error  \n",
       "mean                            -3.214892e+08  \n",
       "std                              1.912649e+08  "
      ]
     },
     "metadata": {},
     "output_type": "display_data"
    }
   ],
   "source": [
    "results = pd.DataFrame({})\n",
    "cross_validate_grid_search = KFold(n_splits=n_folds_grid_search)\n",
    "cross_validate_comparative_analysis = ShuffleSplit(n_splits=n_splits_comparative_analysis, test_size=test_size, random_state=random_state)\n",
    "\n",
    "for model_name, model_object, model_parameters in models:\n",
    "    print(f\"Running {model_name}...\")\n",
    "    model_grid_search = GridSearchCV(\n",
    "        estimator=model_object,\n",
    "        param_grid=model_parameters,\n",
    "        scoring=scoring,\n",
    "        n_jobs=1,\n",
    "        cv=cross_validate_grid_search\n",
    "    )\n",
    "    approach = Pipeline(steps=[\n",
    "        ('preprocessor', preprocessor),\n",
    "        ('model', model_grid_search)\n",
    "    ])\n",
    "    scores = cross_validate(\n",
    "        estimator=approach,\n",
    "        X=x,\n",
    "        y=y,\n",
    "        cv=cross_validate_comparative_analysis,\n",
    "        n_jobs=1,\n",
    "        scoring=metrics\n",
    "    )\n",
    "    scores_df = pd.DataFrame(scores)\n",
    "    scores_df['model_name'] = model_name\n",
    "    display(scores_df.agg(['mean', 'std']))\n",
    "    results = pd.concat([results, scores_df], ignore_index=True)"
   ]
  },
  {
   "cell_type": "markdown",
   "id": "bf954400-38b8-4aee-9ca4-6a7ffb919fbd",
   "metadata": {},
   "source": [
    "## **4. Resultados e discussão**"
   ]
  },
  {
   "cell_type": "code",
   "execution_count": 10,
   "id": "f08bb395-2fc9-45fd-93e4-8df17839f756",
   "metadata": {
    "tags": []
   },
   "outputs": [
    {
     "data": {
      "text/markdown": [],
      "text/plain": [
       "<IPython.core.display.Markdown object>"
      ]
     },
     "metadata": {},
     "output_type": "display_data"
    },
    {
     "data": {
      "text/html": [
       "<style type=\"text/css\">\n",
       "#T_852b9 td {\n",
       "  text-align: center;\n",
       "}\n",
       "#T_852b9_row0_col1, #T_852b9_row2_col1, #T_852b9_row4_col0, #T_852b9_row6_col0, #T_852b9_row8_col0, #T_852b9_row10_col0 {\n",
       "  color: white;\n",
       "  background-color: gray;\n",
       "  font-weight: bold;\n",
       "}\n",
       "</style>\n",
       "<table id=\"T_852b9\">\n",
       "  <thead>\n",
       "    <tr>\n",
       "      <th class=\"blank\" >&nbsp;</th>\n",
       "      <th class=\"index_name level0\" >model_name</th>\n",
       "      <th id=\"T_852b9_level0_col0\" class=\"col_heading level0 col0\" >K-Nearest-Neighbors</th>\n",
       "      <th id=\"T_852b9_level0_col1\" class=\"col_heading level0 col1\" >Linear Regression</th>\n",
       "      <th id=\"T_852b9_level0_col2\" class=\"col_heading level0 col2\" >SGDRegressor</th>\n",
       "      <th id=\"T_852b9_level0_col3\" class=\"col_heading level0 col3\" >Support Vector Regression</th>\n",
       "    </tr>\n",
       "  </thead>\n",
       "  <tbody>\n",
       "    <tr>\n",
       "      <th id=\"T_852b9_level0_row0\" class=\"row_heading level0 row0\" rowspan=\"2\">fit_time</th>\n",
       "      <th id=\"T_852b9_level1_row0\" class=\"row_heading level1 row0\" >mean</th>\n",
       "      <td id=\"T_852b9_row0_col0\" class=\"data row0 col0\" >192.564879</td>\n",
       "      <td id=\"T_852b9_row0_col1\" class=\"data row0 col1\" >17.376328</td>\n",
       "      <td id=\"T_852b9_row0_col2\" class=\"data row0 col2\" >18.380991</td>\n",
       "      <td id=\"T_852b9_row0_col3\" class=\"data row0 col3\" >140.192339</td>\n",
       "    </tr>\n",
       "    <tr>\n",
       "      <th id=\"T_852b9_level1_row1\" class=\"row_heading level1 row1\" >std</th>\n",
       "      <td id=\"T_852b9_row1_col0\" class=\"data row1 col0\" >28.099024</td>\n",
       "      <td id=\"T_852b9_row1_col1\" class=\"data row1 col1\" >3.321295</td>\n",
       "      <td id=\"T_852b9_row1_col2\" class=\"data row1 col2\" >0.162376</td>\n",
       "      <td id=\"T_852b9_row1_col3\" class=\"data row1 col3\" >6.639944</td>\n",
       "    </tr>\n",
       "    <tr>\n",
       "      <th id=\"T_852b9_level0_row2\" class=\"row_heading level0 row2\" rowspan=\"2\">score_time</th>\n",
       "      <th id=\"T_852b9_level1_row2\" class=\"row_heading level1 row2\" >mean</th>\n",
       "      <td id=\"T_852b9_row2_col0\" class=\"data row2 col0\" >0.373604</td>\n",
       "      <td id=\"T_852b9_row2_col1\" class=\"data row2 col1\" >0.090048</td>\n",
       "      <td id=\"T_852b9_row2_col2\" class=\"data row2 col2\" >0.099055</td>\n",
       "      <td id=\"T_852b9_row2_col3\" class=\"data row2 col3\" >0.198990</td>\n",
       "    </tr>\n",
       "    <tr>\n",
       "      <th id=\"T_852b9_level1_row3\" class=\"row_heading level1 row3\" >std</th>\n",
       "      <td id=\"T_852b9_row3_col0\" class=\"data row3 col0\" >0.106897</td>\n",
       "      <td id=\"T_852b9_row3_col1\" class=\"data row3 col1\" >0.019448</td>\n",
       "      <td id=\"T_852b9_row3_col2\" class=\"data row3 col2\" >0.001345</td>\n",
       "      <td id=\"T_852b9_row3_col3\" class=\"data row3 col3\" >0.062854</td>\n",
       "    </tr>\n",
       "    <tr>\n",
       "      <th id=\"T_852b9_level0_row4\" class=\"row_heading level0 row4\" rowspan=\"2\">test_neg_mean_squared_error</th>\n",
       "      <th id=\"T_852b9_level1_row4\" class=\"row_heading level1 row4\" >mean</th>\n",
       "      <td id=\"T_852b9_row4_col0\" class=\"data row4 col0\" >-6661.260276</td>\n",
       "      <td id=\"T_852b9_row4_col1\" class=\"data row4 col1\" >-15024890432974745690985946152960.000000</td>\n",
       "      <td id=\"T_852b9_row4_col2\" class=\"data row4 col2\" >-8583386978809616007168.000000</td>\n",
       "      <td id=\"T_852b9_row4_col3\" class=\"data row4 col3\" >-25273.592425</td>\n",
       "    </tr>\n",
       "    <tr>\n",
       "      <th id=\"T_852b9_level1_row5\" class=\"row_heading level1 row5\" >std</th>\n",
       "      <td id=\"T_852b9_row5_col0\" class=\"data row5 col0\" >3282.981468</td>\n",
       "      <td id=\"T_852b9_row5_col1\" class=\"data row5 col1\" >10032398704561710957370378551296.000000</td>\n",
       "      <td id=\"T_852b9_row5_col2\" class=\"data row5 col2\" >8343419803052355354624.000000</td>\n",
       "      <td id=\"T_852b9_row5_col3\" class=\"data row5 col3\" >11989.246877</td>\n",
       "    </tr>\n",
       "    <tr>\n",
       "      <th id=\"T_852b9_level0_row6\" class=\"row_heading level0 row6\" rowspan=\"2\">test_neg_mean_absolute_error</th>\n",
       "      <th id=\"T_852b9_level1_row6\" class=\"row_heading level1 row6\" >mean</th>\n",
       "      <td id=\"T_852b9_row6_col0\" class=\"data row6 col0\" >-13.174500</td>\n",
       "      <td id=\"T_852b9_row6_col1\" class=\"data row6 col1\" >-567050691615627.000000</td>\n",
       "      <td id=\"T_852b9_row6_col2\" class=\"data row6 col2\" >-10366513828.937042</td>\n",
       "      <td id=\"T_852b9_row6_col3\" class=\"data row6 col3\" >-106.583434</td>\n",
       "    </tr>\n",
       "    <tr>\n",
       "      <th id=\"T_852b9_level1_row7\" class=\"row_heading level1 row7\" >std</th>\n",
       "      <td id=\"T_852b9_row7_col0\" class=\"data row7 col0\" >2.160287</td>\n",
       "      <td id=\"T_852b9_row7_col1\" class=\"data row7 col1\" >102312531170685.687500</td>\n",
       "      <td id=\"T_852b9_row7_col2\" class=\"data row7 col2\" >5809301543.405813</td>\n",
       "      <td id=\"T_852b9_row7_col3\" class=\"data row7 col3\" >50.019150</td>\n",
       "    </tr>\n",
       "    <tr>\n",
       "      <th id=\"T_852b9_level0_row8\" class=\"row_heading level0 row8\" rowspan=\"2\">test_r2</th>\n",
       "      <th id=\"T_852b9_level1_row8\" class=\"row_heading level1 row8\" >mean</th>\n",
       "      <td id=\"T_852b9_row8_col0\" class=\"data row8 col0\" >0.757483</td>\n",
       "      <td id=\"T_852b9_row8_col1\" class=\"data row8 col1\" >-708459971166802909006397440.000000</td>\n",
       "      <td id=\"T_852b9_row8_col2\" class=\"data row8 col2\" >-339165409206523136.000000</td>\n",
       "      <td id=\"T_852b9_row8_col3\" class=\"data row8 col3\" >0.029959</td>\n",
       "    </tr>\n",
       "    <tr>\n",
       "      <th id=\"T_852b9_level1_row9\" class=\"row_heading level1 row9\" >std</th>\n",
       "      <td id=\"T_852b9_row9_col0\" class=\"data row9 col0\" >0.090482</td>\n",
       "      <td id=\"T_852b9_row9_col1\" class=\"data row9 col1\" >720691951232438890322198528.000000</td>\n",
       "      <td id=\"T_852b9_row9_col2\" class=\"data row9 col2\" >343905595948907520.000000</td>\n",
       "      <td id=\"T_852b9_row9_col3\" class=\"data row9 col3\" >0.348563</td>\n",
       "    </tr>\n",
       "    <tr>\n",
       "      <th id=\"T_852b9_level0_row10\" class=\"row_heading level0 row10\" rowspan=\"2\">test_neg_mean_absolute_percentage_error</th>\n",
       "      <th id=\"T_852b9_level1_row10\" class=\"row_heading level1 row10\" >mean</th>\n",
       "      <td id=\"T_852b9_row10_col0\" class=\"data row10 col0\" >-0.108819</td>\n",
       "      <td id=\"T_852b9_row10_col1\" class=\"data row10 col1\" >-17544494174846.207031</td>\n",
       "      <td id=\"T_852b9_row10_col2\" class=\"data row10 col2\" >-321489171.903118</td>\n",
       "      <td id=\"T_852b9_row10_col3\" class=\"data row10 col3\" >-3.648213</td>\n",
       "    </tr>\n",
       "    <tr>\n",
       "      <th id=\"T_852b9_level1_row11\" class=\"row_heading level1 row11\" >std</th>\n",
       "      <td id=\"T_852b9_row11_col0\" class=\"data row11 col0\" >0.011252</td>\n",
       "      <td id=\"T_852b9_row11_col1\" class=\"data row11 col1\" >3436411444589.257812</td>\n",
       "      <td id=\"T_852b9_row11_col2\" class=\"data row11 col2\" >191264868.157234</td>\n",
       "      <td id=\"T_852b9_row11_col3\" class=\"data row11 col3\" >2.062539</td>\n",
       "    </tr>\n",
       "  </tbody>\n",
       "</table>\n"
      ],
      "text/plain": [
       "<pandas.io.formats.style.Styler at 0x77cf5661f8e0>"
      ]
     },
     "execution_count": 10,
     "metadata": {},
     "output_type": "execute_result"
    }
   ],
   "source": [
    "def highlight_best(s, props=''):\n",
    "    if s.name[1] != 'std':\n",
    "        if s.name[0].endswith('time'):\n",
    "            return np.where(s == np.nanmin(s.values), props, '')\n",
    "        return np.where(s == np.nanmax(s.values), props, '')\n",
    "\n",
    "display(Markdown(\"\"))\n",
    "(\n",
    "    results\n",
    "    .groupby('model_name')\n",
    "    .agg(['mean', 'std']).T\n",
    "    .style\n",
    "    .apply(highlight_best, props='color:white;background-color:gray;font-weight: bold;', axis=1)\n",
    "    .set_table_styles([{'selector': 'td', 'props': 'text-align: center;'}])\n",
    ")"
   ]
  },
  {
   "cell_type": "markdown",
   "id": "0c86fbb4-b1d4-4982-9df2-31fb567fb406",
   "metadata": {},
   "source": [
    "Como pode ser visto, o classificador K-Nearest-Neighbors obteve melhores resultados para todas as métricas, portanto, podemos obter os melhores parâmetros deste modelo e salvá-lo em disco para utilização em uma próxima etapa."
   ]
  },
  {
   "cell_type": "markdown",
   "id": "50617efc-b538-43dd-90ad-e3a5fc7651f1",
   "metadata": {},
   "source": [
    "### **4.1. Persistência do Modelo**"
   ]
  },
  {
   "cell_type": "code",
   "execution_count": 11,
   "id": "c48675c7-07ec-4dd3-b459-6a62a1f57800",
   "metadata": {
    "tags": []
   },
   "outputs": [
    {
     "name": "stdout",
     "output_type": "stream",
     "text": [
      "Hiper parâmetros do modelo: {'n_neighbors': 15, 'p': 1, 'weights': 'distance'}\n"
     ]
    }
   ],
   "source": [
    "#Obtem o modelo e os parametros ganhadores\n",
    "model_name, model_object, model_parameters  = [foo for foo in models if foo[0] == \"K-Nearest-Neighbors\"][0] \n",
    "\n",
    "\n",
    "model_grid_search = GridSearchCV(\n",
    "        estimator=model_object,\n",
    "        param_grid=model_parameters,\n",
    "        scoring=scoring,\n",
    "        n_jobs=1,\n",
    "        cv=cross_validate_grid_search\n",
    "    )\n",
    "\n",
    "approach = Pipeline([\n",
    "    (\"preprocessor\", preprocessor),\n",
    "    (\"model\", model_grid_search)\n",
    "])\n",
    "\n",
    "approach.fit(x, y) #Seleciona o approach\n",
    "\n",
    "print(f\"Hiper parâmetros do modelo: {approach.steps[1][1].best_params_}\")"
   ]
  },
  {
   "cell_type": "code",
   "execution_count": 12,
   "id": "90d1b0ad-aba6-43ed-a9a2-fe2abae8d76d",
   "metadata": {
    "tags": []
   },
   "outputs": [
    {
     "data": {
      "text/plain": [
       "['../models/model.joblib']"
      ]
     },
     "execution_count": 12,
     "metadata": {},
     "output_type": "execute_result"
    }
   ],
   "source": [
    "joblib.dump(approach, '../models/model.joblib') # Salva o modelo em disco"
   ]
  }
 ],
 "metadata": {
  "kernelspec": {
   "display_name": "Python 3 (ipykernel)",
   "language": "python",
   "name": "python3"
  },
  "language_info": {
   "codemirror_mode": {
    "name": "ipython",
    "version": 3
   },
   "file_extension": ".py",
   "mimetype": "text/x-python",
   "name": "python",
   "nbconvert_exporter": "python",
   "pygments_lexer": "ipython3",
   "version": "3.10.11"
  }
 },
 "nbformat": 4,
 "nbformat_minor": 5
}
