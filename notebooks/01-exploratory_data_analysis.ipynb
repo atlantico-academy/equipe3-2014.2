{
 "cells": [
  {
   "cell_type": "markdown",
   "metadata": {},
   "source": [
    "# Análise exploratória de dados"
   ]
  },
  {
   "cell_type": "code",
   "execution_count": 27,
   "metadata": {
    "tags": []
   },
   "outputs": [],
   "source": [
    "#importar as libs\n",
    "import pandas as pd\n",
    "import numpy as np\n",
    "import seaborn as sns\n",
    "from scipy import stats\n",
    "import matplotlib.pyplot as plt"
   ]
  },
  {
   "cell_type": "markdown",
   "metadata": {},
   "source": [
    "## 1. Leitura inicial dos dados"
   ]
  },
  {
   "cell_type": "code",
   "execution_count": 28,
   "metadata": {
    "tags": []
   },
   "outputs": [
    {
     "data": {
      "text/html": [
       "<div>\n",
       "<style scoped>\n",
       "    .dataframe tbody tr th:only-of-type {\n",
       "        vertical-align: middle;\n",
       "    }\n",
       "\n",
       "    .dataframe tbody tr th {\n",
       "        vertical-align: top;\n",
       "    }\n",
       "\n",
       "    .dataframe thead th {\n",
       "        text-align: right;\n",
       "    }\n",
       "</style>\n",
       "<table border=\"1\" class=\"dataframe\">\n",
       "  <thead>\n",
       "    <tr style=\"text-align: right;\">\n",
       "      <th></th>\n",
       "      <th>winery</th>\n",
       "      <th>wine</th>\n",
       "      <th>year</th>\n",
       "      <th>rating</th>\n",
       "      <th>num_reviews</th>\n",
       "      <th>country</th>\n",
       "      <th>region</th>\n",
       "      <th>price</th>\n",
       "      <th>type</th>\n",
       "      <th>body</th>\n",
       "      <th>acidity</th>\n",
       "    </tr>\n",
       "  </thead>\n",
       "  <tbody>\n",
       "    <tr>\n",
       "      <th>0</th>\n",
       "      <td>Teso La Monja</td>\n",
       "      <td>Tinto</td>\n",
       "      <td>2013</td>\n",
       "      <td>4.9</td>\n",
       "      <td>58</td>\n",
       "      <td>Espana</td>\n",
       "      <td>Toro</td>\n",
       "      <td>995.00</td>\n",
       "      <td>Toro Red</td>\n",
       "      <td>5.0</td>\n",
       "      <td>3.0</td>\n",
       "    </tr>\n",
       "    <tr>\n",
       "      <th>1</th>\n",
       "      <td>Artadi</td>\n",
       "      <td>Vina El Pison</td>\n",
       "      <td>2018</td>\n",
       "      <td>4.9</td>\n",
       "      <td>31</td>\n",
       "      <td>Espana</td>\n",
       "      <td>Vino de Espana</td>\n",
       "      <td>313.50</td>\n",
       "      <td>Tempranillo</td>\n",
       "      <td>4.0</td>\n",
       "      <td>2.0</td>\n",
       "    </tr>\n",
       "    <tr>\n",
       "      <th>2</th>\n",
       "      <td>Vega Sicilia</td>\n",
       "      <td>Unico</td>\n",
       "      <td>2009</td>\n",
       "      <td>4.8</td>\n",
       "      <td>1793</td>\n",
       "      <td>Espana</td>\n",
       "      <td>Ribera del Duero</td>\n",
       "      <td>324.95</td>\n",
       "      <td>Ribera Del Duero Red</td>\n",
       "      <td>5.0</td>\n",
       "      <td>3.0</td>\n",
       "    </tr>\n",
       "    <tr>\n",
       "      <th>3</th>\n",
       "      <td>Vega Sicilia</td>\n",
       "      <td>Unico</td>\n",
       "      <td>1999</td>\n",
       "      <td>4.8</td>\n",
       "      <td>1705</td>\n",
       "      <td>Espana</td>\n",
       "      <td>Ribera del Duero</td>\n",
       "      <td>692.96</td>\n",
       "      <td>Ribera Del Duero Red</td>\n",
       "      <td>5.0</td>\n",
       "      <td>3.0</td>\n",
       "    </tr>\n",
       "    <tr>\n",
       "      <th>4</th>\n",
       "      <td>Vega Sicilia</td>\n",
       "      <td>Unico</td>\n",
       "      <td>1996</td>\n",
       "      <td>4.8</td>\n",
       "      <td>1309</td>\n",
       "      <td>Espana</td>\n",
       "      <td>Ribera del Duero</td>\n",
       "      <td>778.06</td>\n",
       "      <td>Ribera Del Duero Red</td>\n",
       "      <td>5.0</td>\n",
       "      <td>3.0</td>\n",
       "    </tr>\n",
       "  </tbody>\n",
       "</table>\n",
       "</div>"
      ],
      "text/plain": [
       "          winery           wine  year  rating  num_reviews country  \\\n",
       "0  Teso La Monja          Tinto  2013     4.9           58  Espana   \n",
       "1         Artadi  Vina El Pison  2018     4.9           31  Espana   \n",
       "2   Vega Sicilia          Unico  2009     4.8         1793  Espana   \n",
       "3   Vega Sicilia          Unico  1999     4.8         1705  Espana   \n",
       "4   Vega Sicilia          Unico  1996     4.8         1309  Espana   \n",
       "\n",
       "             region   price                  type  body  acidity  \n",
       "0              Toro  995.00              Toro Red   5.0      3.0  \n",
       "1    Vino de Espana  313.50           Tempranillo   4.0      2.0  \n",
       "2  Ribera del Duero  324.95  Ribera Del Duero Red   5.0      3.0  \n",
       "3  Ribera del Duero  692.96  Ribera Del Duero Red   5.0      3.0  \n",
       "4  Ribera del Duero  778.06  Ribera Del Duero Red   5.0      3.0  "
      ]
     },
     "execution_count": 28,
     "metadata": {},
     "output_type": "execute_result"
    }
   ],
   "source": [
    "#importando o conjunto de dados\n",
    "df = pd.read_csv('../data/raw/wines_SPA.csv')\n",
    "df.head()"
   ]
  },
  {
   "cell_type": "markdown",
   "metadata": {},
   "source": [
    "## 2. Descrição do conjunto de dados"
   ]
  },
  {
   "cell_type": "markdown",
   "metadata": {},
   "source": [
    "![ilustracao vinho](../ilustracao.jpeg)"
   ]
  },
  {
   "cell_type": "markdown",
   "metadata": {},
   "source": [
    "O conjunto de dados **Spanish Wine Quality Data** está relacionado a variantes de vinhos tintos espanhóis. Esses dados  descrevem várias métricas de popularidade, especificações dos vinhos e além da qualidade dos vinhos. As classes são ordenadas e não balanceadas (ou seja, a qualidade varia de quase 5 a 4 pontos). "
   ]
  },
  {
   "cell_type": "markdown",
   "metadata": {},
   "source": [
    "### 2.1 Dicionário de Dados"
   ]
  },
  {
   "cell_type": "code",
   "execution_count": 14,
   "metadata": {
    "tags": []
   },
   "outputs": [
    {
     "data": {
      "text/html": [
       "<div>\n",
       "<style scoped>\n",
       "    .dataframe tbody tr th:only-of-type {\n",
       "        vertical-align: middle;\n",
       "    }\n",
       "\n",
       "    .dataframe tbody tr th {\n",
       "        vertical-align: top;\n",
       "    }\n",
       "\n",
       "    .dataframe thead th {\n",
       "        text-align: right;\n",
       "    }\n",
       "</style>\n",
       "<table border=\"1\" class=\"dataframe\">\n",
       "  <thead>\n",
       "    <tr style=\"text-align: right;\">\n",
       "      <th></th>\n",
       "      <th>variavel</th>\n",
       "      <th>descricao</th>\n",
       "      <th>tipo</th>\n",
       "      <th>subtipo</th>\n",
       "    </tr>\n",
       "  </thead>\n",
       "  <tbody>\n",
       "    <tr>\n",
       "      <th>0</th>\n",
       "      <td>winery</td>\n",
       "      <td>Vinícola do vinho</td>\n",
       "      <td>Qualitativa</td>\n",
       "      <td>Nominal</td>\n",
       "    </tr>\n",
       "    <tr>\n",
       "      <th>1</th>\n",
       "      <td>wine</td>\n",
       "      <td>Nome do vinho</td>\n",
       "      <td>Qualitativa</td>\n",
       "      <td>Nominal</td>\n",
       "    </tr>\n",
       "    <tr>\n",
       "      <th>2</th>\n",
       "      <td>year</td>\n",
       "      <td>Ano da safra do vinho</td>\n",
       "      <td>Quantitativa</td>\n",
       "      <td>Contínua</td>\n",
       "    </tr>\n",
       "    <tr>\n",
       "      <th>3</th>\n",
       "      <td>rating</td>\n",
       "      <td>Avaliação do vinho (1-5)</td>\n",
       "      <td>Quantitativa</td>\n",
       "      <td>Discreta</td>\n",
       "    </tr>\n",
       "    <tr>\n",
       "      <th>4</th>\n",
       "      <td>num_reviews</td>\n",
       "      <td>Número de avaliações</td>\n",
       "      <td>Quantitativa</td>\n",
       "      <td>Discreta</td>\n",
       "    </tr>\n",
       "    <tr>\n",
       "      <th>5</th>\n",
       "      <td>country</td>\n",
       "      <td>País de origem</td>\n",
       "      <td>Qualitativa</td>\n",
       "      <td>Nominal</td>\n",
       "    </tr>\n",
       "    <tr>\n",
       "      <th>6</th>\n",
       "      <td>region</td>\n",
       "      <td>Região de origem</td>\n",
       "      <td>Qualitativa</td>\n",
       "      <td>Nominal</td>\n",
       "    </tr>\n",
       "    <tr>\n",
       "      <th>7</th>\n",
       "      <td>price</td>\n",
       "      <td>Preço do vinho em euros</td>\n",
       "      <td>Quantitativa</td>\n",
       "      <td>Contínua</td>\n",
       "    </tr>\n",
       "    <tr>\n",
       "      <th>8</th>\n",
       "      <td>type</td>\n",
       "      <td>Tipo do vinho</td>\n",
       "      <td>Qualitativa</td>\n",
       "      <td>Nominal</td>\n",
       "    </tr>\n",
       "    <tr>\n",
       "      <th>9</th>\n",
       "      <td>body</td>\n",
       "      <td>Classificação do corpo do vinho (1-5)</td>\n",
       "      <td>Quantitativa</td>\n",
       "      <td>Discreta</td>\n",
       "    </tr>\n",
       "    <tr>\n",
       "      <th>10</th>\n",
       "      <td>acidity</td>\n",
       "      <td>Classificação da acidez do vinho (1-5)</td>\n",
       "      <td>Quantitativa</td>\n",
       "      <td>Discreta</td>\n",
       "    </tr>\n",
       "  </tbody>\n",
       "</table>\n",
       "</div>"
      ],
      "text/plain": [
       "       variavel                               descricao          tipo  \\\n",
       "0        winery                       Vinícola do vinho   Qualitativa   \n",
       "1          wine                           Nome do vinho   Qualitativa   \n",
       "2          year                   Ano da safra do vinho  Quantitativa   \n",
       "3        rating                Avaliação do vinho (1-5)  Quantitativa   \n",
       "4   num_reviews                    Número de avaliações  Quantitativa   \n",
       "5       country                          País de origem   Qualitativa   \n",
       "6        region                        Região de origem   Qualitativa   \n",
       "7         price                 Preço do vinho em euros  Quantitativa   \n",
       "8          type                           Tipo do vinho   Qualitativa   \n",
       "9          body   Classificação do corpo do vinho (1-5)  Quantitativa   \n",
       "10      acidity  Classificação da acidez do vinho (1-5)  Quantitativa   \n",
       "\n",
       "     subtipo  \n",
       "0    Nominal  \n",
       "1    Nominal  \n",
       "2   Contínua  \n",
       "3   Discreta  \n",
       "4   Discreta  \n",
       "5    Nominal  \n",
       "6    Nominal  \n",
       "7   Contínua  \n",
       "8    Nominal  \n",
       "9   Discreta  \n",
       "10  Discreta  "
      ]
     },
     "execution_count": 14,
     "metadata": {},
     "output_type": "execute_result"
    }
   ],
   "source": [
    "dicionario = pd.read_csv(\"../data/external/dictionary.csv\")\n",
    "dicionario"
   ]
  },
  {
   "cell_type": "markdown",
   "metadata": {},
   "source": [
    "- Conjunto com 11 variáveis, com 5 qualitativas nominais, 6 quantitativas, sendo 2 contínuas e 4 discretas."
   ]
  },
  {
   "cell_type": "code",
   "execution_count": 11,
   "metadata": {
    "tags": []
   },
   "outputs": [
    {
     "name": "stdout",
     "output_type": "stream",
     "text": [
      "<class 'pandas.core.frame.DataFrame'>\n",
      "RangeIndex: 7500 entries, 0 to 7499\n",
      "Data columns (total 11 columns):\n",
      " #   Column       Non-Null Count  Dtype  \n",
      "---  ------       --------------  -----  \n",
      " 0   winery       7500 non-null   object \n",
      " 1   wine         7500 non-null   object \n",
      " 2   year         7498 non-null   object \n",
      " 3   rating       7500 non-null   float64\n",
      " 4   num_reviews  7500 non-null   int64  \n",
      " 5   country      7500 non-null   object \n",
      " 6   region       7500 non-null   object \n",
      " 7   price        7500 non-null   float64\n",
      " 8   type         6955 non-null   object \n",
      " 9   body         6331 non-null   float64\n",
      " 10  acidity      6331 non-null   float64\n",
      "dtypes: float64(4), int64(1), object(6)\n",
      "memory usage: 644.7+ KB\n"
     ]
    }
   ],
   "source": [
    "#informações básicas \n",
    "df.info()"
   ]
  },
  {
   "cell_type": "code",
   "execution_count": 12,
   "metadata": {
    "tags": []
   },
   "outputs": [
    {
     "data": {
      "text/plain": [
       "winery            0\n",
       "wine              0\n",
       "year              2\n",
       "rating            0\n",
       "num_reviews       0\n",
       "country           0\n",
       "region            0\n",
       "price             0\n",
       "type            545\n",
       "body           1169\n",
       "acidity        1169\n",
       "dtype: int64"
      ]
     },
     "execution_count": 12,
     "metadata": {},
     "output_type": "execute_result"
    }
   ],
   "source": [
    "df.isnull().sum()"
   ]
  },
  {
   "cell_type": "markdown",
   "metadata": {
    "tags": []
   },
   "source": [
    "Valores nulos: \n",
    "- Na coluna ano apareceram 2 nulos\n",
    "- Na coluna tipo foram encontrados 545 nulos\n",
    "- Corpo e Acidez tem grandes quantidades de valores nulos 1169."
   ]
  },
  {
   "cell_type": "markdown",
   "metadata": {},
   "source": [
    "## 3. Perguntas de partida e hipóteses"
   ]
  },
  {
   "cell_type": "markdown",
   "metadata": {
    "tags": []
   },
   "source": [
    "1. **A qualidade do vinho interfere no valor dele?**\n",
    "- **Hipótese**: Quanto maior for a qualidade do vinho, maior será o seu valor de mercado.\n",
    "2. **A região do vinho afeta sua qualidade?**\n",
    "- **Hipótese**: Vinhos produzidos em regiões renomadas possuem, em média, uma qualidade superior em comparação com vinhos de regiões menos conhecidas.\n",
    "3. **Vinhos mais baratos possuem notas inferiores?**\n",
    "- **Hipótese**: Vinhos com preços mais baixos tendem a receber notas de avaliação mais baixas devido à menor complexidade e qualidade percebida.\n",
    "4. **O tipo de vinho interfere no valor?**\n",
    "- **Hipótese**: Vinhos tintos possuem um valor de mercado superior aos vinhos brancos, em média, devido à maior demanda e ao processo de produção geralmente mais elaborado.\n",
    "5. **Qual a relação entre nota, preço e ano?**\n",
    "- **Hipótese**: Vinhos com notas altas e de anos mais antigos possuem preços mais elevados.\n",
    "6. **Qual a relação entre tipo de vinho, nota e reviews?**\n",
    "- **Hipótese**: Vinhos com notas altas e de anos mais antigos possuem preços mais elevados, pois a qualidade reconhecida e o envelhecimento contribuem para uma valorização no mercado.\n",
    "7. **Qual a relação entre a região e o tipo do vinho?**\n",
    "- **Hipótese**: Certas regiões são mais propensas a produzir tipos específicos de vinho devido às suas condições climáticas e de solo.\n",
    "8. **Qual a relação entre a região, a acidez e o corpo do vinho?**\n",
    "- **Hipótese**: Vinhos de regiões mais frias tendem a ter maior acidez e corpo mais leve, enquanto vinhos de regiões mais quentes têm menor acidez e corpo mais encorpado."
   ]
  },
  {
   "cell_type": "markdown",
   "metadata": {},
   "source": [
    "### A qualidade do vinho interfere no valor dele?"
   ]
  },
  {
   "cell_type": "code",
   "execution_count": 16,
   "metadata": {
    "tags": []
   },
   "outputs": [
    {
     "name": "stdout",
     "output_type": "stream",
     "text": [
      "Correlação entre qualidade e valor: 0.5448089035020968\n"
     ]
    },
    {
     "data": {
      "image/png": "[encoded data removed]",
      "text/plain": [
       "<Figure size 640x480 with 1 Axes>"
      ]
     },
     "metadata": {},
     "output_type": "display_data"
    }
   ],
   "source": [
    "correlation = df['rating'].corr(df['price'])\n",
    "print(f\"Correlação entre qualidade e valor: {correlation}\")\n",
    "\n",
    "# Visualização da correlação\n",
    "sns.scatterplot(data=df, x='rating', y='price')\n",
    "plt.title('Correlação entre Qualidade e Valor do Vinho')\n",
    "plt.show()"
   ]
  },
  {
   "cell_type": "markdown",
   "metadata": {},
   "source": [
    "**Correlação de Pearson - Explicação**\n",
    "- Esta medida é utilizada para avaliar o relacionamento linear entre duas variáveis contínuas. \n",
    "- É adequada quando os dados seguem uma distribuição normal e quando a relação entre as variáveis é linear.\n",
    "- A correlação de Pearson varia de -1 a 1, onde -1 indica uma relação negativa perfeita, 0 indica ausência de correlação e 1 indica uma relação positiva perfeita.\n",
    "\n",
    "**Análise**\n",
    "- Um valor de 0.5448 indica uma correlação positiva moderada. Isso significa que, em geral, à medida que a pontuação dos vinhos aumenta, o preço também tende a aumentar.\n",
    "- A correlação não implica causalidade. Embora haja uma relação entre preço e pontuação, isso não significa necessariamente que a pontuação alta causa o aumento do preço ou vice-versa. Outros fatores podem influenciar tanto o preço quanto a pontuação, como a reputação do produtor, a raridade do vinho, e preferências de mercado. Isso pode ser visto no rating 4.6, que apesar de não ser o maior score, tem preços que se destacam."
   ]
  },
  {
   "cell_type": "markdown",
   "metadata": {},
   "source": [
    "### **A região do vinho afeta sua qualidade?**"
   ]
  },
  {
   "cell_type": "markdown",
   "metadata": {},
   "source": [
    "### **Vinhos mais baratos possuem notas inferiores?**"
   ]
  },
  {
   "cell_type": "markdown",
   "metadata": {},
   "source": [
    "### **O tipo de vinho interfere no valor?**"
   ]
  },
  {
   "cell_type": "code",
   "execution_count": 21,
   "metadata": {
    "tags": []
   },
   "outputs": [
    {
     "data": {
      "text/html": [
       "<div>\n",
       "<style scoped>\n",
       "    .dataframe tbody tr th:only-of-type {\n",
       "        vertical-align: middle;\n",
       "    }\n",
       "\n",
       "    .dataframe tbody tr th {\n",
       "        vertical-align: top;\n",
       "    }\n",
       "\n",
       "    .dataframe thead th {\n",
       "        text-align: right;\n",
       "    }\n",
       "</style>\n",
       "<table border=\"1\" class=\"dataframe\">\n",
       "  <thead>\n",
       "    <tr style=\"text-align: right;\">\n",
       "      <th></th>\n",
       "      <th>count</th>\n",
       "      <th>mean</th>\n",
       "      <th>std</th>\n",
       "      <th>min</th>\n",
       "      <th>25%</th>\n",
       "      <th>50%</th>\n",
       "      <th>75%</th>\n",
       "      <th>max</th>\n",
       "    </tr>\n",
       "    <tr>\n",
       "      <th>type</th>\n",
       "      <th></th>\n",
       "      <th></th>\n",
       "      <th></th>\n",
       "      <th></th>\n",
       "      <th></th>\n",
       "      <th></th>\n",
       "      <th></th>\n",
       "      <th></th>\n",
       "    </tr>\n",
       "  </thead>\n",
       "  <tbody>\n",
       "    <tr>\n",
       "      <th>Albarino</th>\n",
       "      <td>252.0</td>\n",
       "      <td>18.114673</td>\n",
       "      <td>5.295559</td>\n",
       "      <td>11.900000</td>\n",
       "      <td>16.7800</td>\n",
       "      <td>16.780</td>\n",
       "      <td>16.7800</td>\n",
       "      <td>59.95</td>\n",
       "    </tr>\n",
       "    <tr>\n",
       "      <th>Cabernet Sauvignon</th>\n",
       "      <td>11.0</td>\n",
       "      <td>51.090000</td>\n",
       "      <td>16.426115</td>\n",
       "      <td>16.900000</td>\n",
       "      <td>45.1500</td>\n",
       "      <td>55.000</td>\n",
       "      <td>63.9150</td>\n",
       "      <td>67.45</td>\n",
       "    </tr>\n",
       "    <tr>\n",
       "      <th>Cava</th>\n",
       "      <td>33.0</td>\n",
       "      <td>60.547576</td>\n",
       "      <td>34.081698</td>\n",
       "      <td>7.890000</td>\n",
       "      <td>40.3300</td>\n",
       "      <td>53.700</td>\n",
       "      <td>75.5000</td>\n",
       "      <td>164.66</td>\n",
       "    </tr>\n",
       "    <tr>\n",
       "      <th>Chardonnay</th>\n",
       "      <td>13.0</td>\n",
       "      <td>78.114615</td>\n",
       "      <td>74.414651</td>\n",
       "      <td>15.750000</td>\n",
       "      <td>28.4000</td>\n",
       "      <td>50.900</td>\n",
       "      <td>112.7600</td>\n",
       "      <td>249.95</td>\n",
       "    </tr>\n",
       "    <tr>\n",
       "      <th>Grenache</th>\n",
       "      <td>35.0</td>\n",
       "      <td>57.506286</td>\n",
       "      <td>47.087446</td>\n",
       "      <td>13.950000</td>\n",
       "      <td>27.6450</td>\n",
       "      <td>36.900</td>\n",
       "      <td>80.9500</td>\n",
       "      <td>197.00</td>\n",
       "    </tr>\n",
       "    <tr>\n",
       "      <th>Mencia</th>\n",
       "      <td>235.0</td>\n",
       "      <td>21.244170</td>\n",
       "      <td>20.870947</td>\n",
       "      <td>17.900000</td>\n",
       "      <td>17.9000</td>\n",
       "      <td>17.900</td>\n",
       "      <td>17.9000</td>\n",
       "      <td>269.95</td>\n",
       "    </tr>\n",
       "    <tr>\n",
       "      <th>Monastrell</th>\n",
       "      <td>18.0</td>\n",
       "      <td>38.637778</td>\n",
       "      <td>19.707725</td>\n",
       "      <td>8.950000</td>\n",
       "      <td>28.6000</td>\n",
       "      <td>34.385</td>\n",
       "      <td>55.8675</td>\n",
       "      <td>77.98</td>\n",
       "    </tr>\n",
       "    <tr>\n",
       "      <th>Montsant Red</th>\n",
       "      <td>17.0</td>\n",
       "      <td>72.024118</td>\n",
       "      <td>47.386883</td>\n",
       "      <td>16.250000</td>\n",
       "      <td>36.9300</td>\n",
       "      <td>51.050</td>\n",
       "      <td>119.0000</td>\n",
       "      <td>157.95</td>\n",
       "    </tr>\n",
       "    <tr>\n",
       "      <th>Pedro Ximenez</th>\n",
       "      <td>35.0</td>\n",
       "      <td>148.874286</td>\n",
       "      <td>138.836991</td>\n",
       "      <td>17.500000</td>\n",
       "      <td>34.5650</td>\n",
       "      <td>114.500</td>\n",
       "      <td>216.0000</td>\n",
       "      <td>701.05</td>\n",
       "    </tr>\n",
       "    <tr>\n",
       "      <th>Priorat Red</th>\n",
       "      <td>674.0</td>\n",
       "      <td>104.794475</td>\n",
       "      <td>246.099619</td>\n",
       "      <td>16.200000</td>\n",
       "      <td>16.7600</td>\n",
       "      <td>77.360</td>\n",
       "      <td>77.3600</td>\n",
       "      <td>2750.00</td>\n",
       "    </tr>\n",
       "    <tr>\n",
       "      <th>Red</th>\n",
       "      <td>864.0</td>\n",
       "      <td>37.493737</td>\n",
       "      <td>125.262089</td>\n",
       "      <td>4.990000</td>\n",
       "      <td>18.9000</td>\n",
       "      <td>23.950</td>\n",
       "      <td>24.4500</td>\n",
       "      <td>3119.08</td>\n",
       "    </tr>\n",
       "    <tr>\n",
       "      <th>Ribera Del Duero Red</th>\n",
       "      <td>1407.0</td>\n",
       "      <td>109.450450</td>\n",
       "      <td>236.077568</td>\n",
       "      <td>7.900000</td>\n",
       "      <td>34.6750</td>\n",
       "      <td>51.350</td>\n",
       "      <td>64.5000</td>\n",
       "      <td>2884.04</td>\n",
       "    </tr>\n",
       "    <tr>\n",
       "      <th>Rioja Red</th>\n",
       "      <td>2357.0</td>\n",
       "      <td>43.968594</td>\n",
       "      <td>54.810346</td>\n",
       "      <td>10.200000</td>\n",
       "      <td>19.9800</td>\n",
       "      <td>28.530</td>\n",
       "      <td>59.9000</td>\n",
       "      <td>1150.00</td>\n",
       "    </tr>\n",
       "    <tr>\n",
       "      <th>Rioja White</th>\n",
       "      <td>92.0</td>\n",
       "      <td>48.854748</td>\n",
       "      <td>85.995343</td>\n",
       "      <td>6.990000</td>\n",
       "      <td>29.1500</td>\n",
       "      <td>29.150</td>\n",
       "      <td>35.3625</td>\n",
       "      <td>795.00</td>\n",
       "    </tr>\n",
       "    <tr>\n",
       "      <th>Sauvignon Blanc</th>\n",
       "      <td>4.0</td>\n",
       "      <td>12.975000</td>\n",
       "      <td>3.778999</td>\n",
       "      <td>8.900000</td>\n",
       "      <td>10.9625</td>\n",
       "      <td>12.550</td>\n",
       "      <td>14.5625</td>\n",
       "      <td>17.90</td>\n",
       "    </tr>\n",
       "    <tr>\n",
       "      <th>Sherry</th>\n",
       "      <td>274.0</td>\n",
       "      <td>23.892263</td>\n",
       "      <td>49.896570</td>\n",
       "      <td>7.100000</td>\n",
       "      <td>7.1000</td>\n",
       "      <td>7.100</td>\n",
       "      <td>7.1000</td>\n",
       "      <td>400.85</td>\n",
       "    </tr>\n",
       "    <tr>\n",
       "      <th>Sparkling</th>\n",
       "      <td>5.0</td>\n",
       "      <td>76.794000</td>\n",
       "      <td>80.051955</td>\n",
       "      <td>16.990000</td>\n",
       "      <td>21.6000</td>\n",
       "      <td>23.220</td>\n",
       "      <td>130.0000</td>\n",
       "      <td>192.16</td>\n",
       "    </tr>\n",
       "    <tr>\n",
       "      <th>Syrah</th>\n",
       "      <td>15.0</td>\n",
       "      <td>43.176072</td>\n",
       "      <td>29.273423</td>\n",
       "      <td>17.040000</td>\n",
       "      <td>24.0000</td>\n",
       "      <td>25.890</td>\n",
       "      <td>72.7250</td>\n",
       "      <td>99.00</td>\n",
       "    </tr>\n",
       "    <tr>\n",
       "      <th>Tempranillo</th>\n",
       "      <td>291.0</td>\n",
       "      <td>73.413897</td>\n",
       "      <td>79.914881</td>\n",
       "      <td>9.884034</td>\n",
       "      <td>48.9600</td>\n",
       "      <td>48.960</td>\n",
       "      <td>48.9600</td>\n",
       "      <td>519.55</td>\n",
       "    </tr>\n",
       "    <tr>\n",
       "      <th>Toro Red</th>\n",
       "      <td>296.0</td>\n",
       "      <td>76.522264</td>\n",
       "      <td>240.567506</td>\n",
       "      <td>14.650000</td>\n",
       "      <td>27.8900</td>\n",
       "      <td>27.890</td>\n",
       "      <td>27.8900</td>\n",
       "      <td>2814.16</td>\n",
       "    </tr>\n",
       "    <tr>\n",
       "      <th>Verdejo</th>\n",
       "      <td>27.0</td>\n",
       "      <td>34.261852</td>\n",
       "      <td>26.567307</td>\n",
       "      <td>6.260000</td>\n",
       "      <td>19.5000</td>\n",
       "      <td>29.400</td>\n",
       "      <td>39.7000</td>\n",
       "      <td>144.78</td>\n",
       "    </tr>\n",
       "  </tbody>\n",
       "</table>\n",
       "</div>"
      ],
      "text/plain": [
       "                       count        mean         std        min      25%  \\\n",
       "type                                                                       \n",
       "Albarino               252.0   18.114673    5.295559  11.900000  16.7800   \n",
       "Cabernet Sauvignon      11.0   51.090000   16.426115  16.900000  45.1500   \n",
       "Cava                    33.0   60.547576   34.081698   7.890000  40.3300   \n",
       "Chardonnay              13.0   78.114615   74.414651  15.750000  28.4000   \n",
       "Grenache                35.0   57.506286   47.087446  13.950000  27.6450   \n",
       "Mencia                 235.0   21.244170   20.870947  17.900000  17.9000   \n",
       "Monastrell              18.0   38.637778   19.707725   8.950000  28.6000   \n",
       "Montsant Red            17.0   72.024118   47.386883  16.250000  36.9300   \n",
       "Pedro Ximenez           35.0  148.874286  138.836991  17.500000  34.5650   \n",
       "Priorat Red            674.0  104.794475  246.099619  16.200000  16.7600   \n",
       "Red                    864.0   37.493737  125.262089   4.990000  18.9000   \n",
       "Ribera Del Duero Red  1407.0  109.450450  236.077568   7.900000  34.6750   \n",
       "Rioja Red             2357.0   43.968594   54.810346  10.200000  19.9800   \n",
       "Rioja White             92.0   48.854748   85.995343   6.990000  29.1500   \n",
       "Sauvignon Blanc          4.0   12.975000    3.778999   8.900000  10.9625   \n",
       "Sherry                 274.0   23.892263   49.896570   7.100000   7.1000   \n",
       "Sparkling                5.0   76.794000   80.051955  16.990000  21.6000   \n",
       "Syrah                   15.0   43.176072   29.273423  17.040000  24.0000   \n",
       "Tempranillo            291.0   73.413897   79.914881   9.884034  48.9600   \n",
       "Toro Red               296.0   76.522264  240.567506  14.650000  27.8900   \n",
       "Verdejo                 27.0   34.261852   26.567307   6.260000  19.5000   \n",
       "\n",
       "                          50%       75%      max  \n",
       "type                                              \n",
       "Albarino               16.780   16.7800    59.95  \n",
       "Cabernet Sauvignon     55.000   63.9150    67.45  \n",
       "Cava                   53.700   75.5000   164.66  \n",
       "Chardonnay             50.900  112.7600   249.95  \n",
       "Grenache               36.900   80.9500   197.00  \n",
       "Mencia                 17.900   17.9000   269.95  \n",
       "Monastrell             34.385   55.8675    77.98  \n",
       "Montsant Red           51.050  119.0000   157.95  \n",
       "Pedro Ximenez         114.500  216.0000   701.05  \n",
       "Priorat Red            77.360   77.3600  2750.00  \n",
       "Red                    23.950   24.4500  3119.08  \n",
       "Ribera Del Duero Red   51.350   64.5000  2884.04  \n",
       "Rioja Red              28.530   59.9000  1150.00  \n",
       "Rioja White            29.150   35.3625   795.00  \n",
       "Sauvignon Blanc        12.550   14.5625    17.90  \n",
       "Sherry                  7.100    7.1000   400.85  \n",
       "Sparkling              23.220  130.0000   192.16  \n",
       "Syrah                  25.890   72.7250    99.00  \n",
       "Tempranillo            48.960   48.9600   519.55  \n",
       "Toro Red               27.890   27.8900  2814.16  \n",
       "Verdejo                29.400   39.7000   144.78  "
      ]
     },
     "execution_count": 21,
     "metadata": {},
     "output_type": "execute_result"
    }
   ],
   "source": [
    "#descrição estatística dos tipos de vinho\n",
    "df.groupby('type')['price'].describe()"
   ]
  },
  {
   "cell_type": "code",
   "execution_count": 25,
   "metadata": {
    "tags": []
   },
   "outputs": [
    {
     "data": {
      "image/png": "[encoded data removed]",
      "text/plain": [
       "<Figure size 800x600 with 1 Axes>"
      ]
     },
     "metadata": {},
     "output_type": "display_data"
    }
   ],
   "source": [
    "#figura ficou péssima****\n",
    "plt.figure(figsize=(8, 6))\n",
    "sns.boxplot(x='price', y='type', data=df)\n",
    "plt.title('Distribuição dos Preços por Tipo de Vinho')\n",
    "plt.xlabel('Tipo de Vinho')\n",
    "plt.ylabel('Preço')\n",
    "plt.show()"
   ]
  },
  {
   "cell_type": "markdown",
   "metadata": {},
   "source": [
    "### **Qual a relação entre nota, preço e ano?**"
   ]
  },
  {
   "cell_type": "markdown",
   "metadata": {},
   "source": [
    "### **Qual a relação entre tipo de vinho, nota e reviews?**"
   ]
  },
  {
   "cell_type": "markdown",
   "metadata": {},
   "source": [
    "### **Qual a relação entre a região e o tipo do vinho?**"
   ]
  },
  {
   "cell_type": "markdown",
   "metadata": {},
   "source": [
    "### **Qual a relação entre a região, a acidez e o corpo do vinho?**"
   ]
  },
  {
   "cell_type": "markdown",
   "metadata": {},
   "source": [
    "## 3. Insights"
   ]
  },
  {
   "cell_type": "code",
   "execution_count": null,
   "metadata": {},
   "outputs": [],
   "source": []
  }
 ],
 "metadata": {
  "kernelspec": {
   "display_name": "Python 3 (ipykernel)",
   "language": "python",
   "name": "python3"
  },
  "language_info": {
   "codemirror_mode": {
    "name": "ipython",
    "version": 3
   },
   "file_extension": ".py",
   "mimetype": "text/x-python",
   "name": "python",
   "nbconvert_exporter": "python",
   "pygments_lexer": "ipython3",
   "version": "3.10.11"
  },
  "vscode": {
   "interpreter": {
    "hash": "eb3c3305d8b111f0102f4f519c5f17abd113fe74db6752c355e994a9008815ef"
   }
  }
 },
 "nbformat": 4,
 "nbformat_minor": 4
}
